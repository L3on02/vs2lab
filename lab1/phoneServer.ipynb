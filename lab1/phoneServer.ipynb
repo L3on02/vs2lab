{
 "cells": [
  {
   "cell_type": "code",
   "execution_count": null,
   "metadata": {},
   "outputs": [],
   "source": [
    "import clientserver\n",
    "\n",
    "server = clientserver.Server()\n",
    "\n",
    "database = {\n",
    "    \"Leon\" : \"1341243\",\n",
    "    \"Patrick\" : \"2342432\"\n",
    "}\n",
    "\n",
    "server.tel_book(database)"
   ]
  }
 ],
 "metadata": {
  "kernelspec": {
   "display_name": "vs2lab-uWc7IIUF",
   "language": "python",
   "name": "python3"
  },
  "language_info": {
   "codemirror_mode": {
    "name": "ipython",
    "version": 3
   },
   "file_extension": ".py",
   "mimetype": "text/x-python",
   "name": "python",
   "nbconvert_exporter": "python",
   "pygments_lexer": "ipython3",
   "version": "3.11.4"
  }
 },
 "nbformat": 4,
 "nbformat_minor": 2
}
