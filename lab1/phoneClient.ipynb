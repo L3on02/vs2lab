{
 "cells": [
  {
   "cell_type": "code",
   "execution_count": 1,
   "metadata": {},
   "outputs": [
    {
     "name": "stderr",
     "output_type": "stream",
     "text": [
      "2023-11-02 13:59:43,085 - vs2lab.a1_layers.clientserver.Client - INFO - Client connected to socket <socket.socket fd=66, family=2, type=1, proto=0, laddr=('127.0.0.1', 48670), raddr=('127.0.0.1', 50007)>\n",
      "2023-11-02 13:59:43,087 - vs2lab.a1_layers.clientserver.Client - INFO - Requesting Data\n"
     ]
    },
    {
     "name": "stdout",
     "output_type": "stream",
     "text": [
      "björn: 7392732937\n"
     ]
    },
    {
     "data": {
      "text/plain": [
       "'björn: 7392732937'"
      ]
     },
     "execution_count": 1,
     "metadata": {},
     "output_type": "execute_result"
    }
   ],
   "source": [
    "import clientserver # import from our script\n",
    "\n",
    "client = clientserver.Client() # Create a client instance\n",
    "\n",
    "client.get(\"björn\")"
   ]
  },
  {
   "cell_type": "markdown",
   "metadata": {},
   "source": [
    "Initialisiert einen Client welcher einmal eine einzelne get Anfrage nach einem bestimmten name (hier jack) und einmal eine getAll Anfrage an den Server schickt"
   ]
  },
  {
   "cell_type": "code",
   "execution_count": 2,
   "metadata": {},
   "outputs": [
    {
     "name": "stderr",
     "output_type": "stream",
     "text": [
      "2023-11-02 13:59:46,839 - vs2lab.a1_layers.clientserver.Client - INFO - Client connected to socket <socket.socket fd=66, family=2, type=1, proto=0, laddr=('127.0.0.1', 48674), raddr=('127.0.0.1', 50007)>\n",
      "2023-11-02 13:59:46,844 - vs2lab.a1_layers.clientserver.Client - INFO - Requesting Data\n"
     ]
    },
    {
     "name": "stdout",
     "output_type": "stream",
     "text": [
      "annette: 1234\n",
      "jack: 4098\n",
      "peter: 5678\n",
      "sape: 4139\n",
      "björn: 7392732937\n",
      "\n"
     ]
    },
    {
     "data": {
      "text/plain": [
       "'annette: 1234\\njack: 4098\\npeter: 5678\\nsape: 4139\\nbjörn: 7392732937\\n'"
      ]
     },
     "execution_count": 2,
     "metadata": {},
     "output_type": "execute_result"
    }
   ],
   "source": [
    "import clientserver # import from our script\n",
    "\n",
    "client = clientserver.Client() # Create a client instance\n",
    "\n",
    "client.get_all()"
   ]
  }
 ],
 "metadata": {
  "kernelspec": {
   "display_name": "vs2lab-uWc7IIUF",
   "language": "python",
   "name": "python3"
  },
  "language_info": {
   "codemirror_mode": {
    "name": "ipython",
    "version": 3
   },
   "file_extension": ".py",
   "mimetype": "text/x-python",
   "name": "python",
   "nbconvert_exporter": "python",
   "pygments_lexer": "ipython3",
   "version": "3.11.4"
  }
 },
 "nbformat": 4,
 "nbformat_minor": 2
}
