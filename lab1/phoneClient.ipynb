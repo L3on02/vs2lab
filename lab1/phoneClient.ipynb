{
 "cells": [
  {
   "cell_type": "code",
   "execution_count": 5,
   "metadata": {},
   "outputs": [
    {
     "name": "stderr",
     "output_type": "stream",
     "text": [
      "2023-11-01 16:38:08,179 - vs2lab.a1_layers.clientserver.Client - INFO - Client connected to socket <socket.socket fd=66, family=2, type=1, proto=0, laddr=('127.0.0.1', 38276), raddr=('127.0.0.1', 50007)>\n"
     ]
    },
    {
     "name": "stdout",
     "output_type": "stream",
     "text": [
      "annette: 1234\n",
      "Client down.\n"
     ]
    },
    {
     "data": {
      "text/plain": [
       "'annette: 1234'"
      ]
     },
     "execution_count": 5,
     "metadata": {},
     "output_type": "execute_result"
    }
   ],
   "source": [
    "import clientserver # import from our script\n",
    "\n",
    "client = clientserver.Client() # Create a client instance\n",
    "\n",
    "client.get(\"annette\")"
   ]
  },
  {
   "cell_type": "code",
   "execution_count": 6,
   "metadata": {},
   "outputs": [
    {
     "name": "stderr",
     "output_type": "stream",
     "text": [
      "2023-11-01 16:38:09,711 - vs2lab.a1_layers.clientserver.Client - INFO - Client connected to socket <socket.socket fd=66, family=2, type=1, proto=0, laddr=('127.0.0.1', 38286), raddr=('127.0.0.1', 50007)>\n"
     ]
    },
    {
     "name": "stdout",
     "output_type": "stream",
     "text": [
      "annette: 1234\n",
      "jack: 4098\n",
      "peter: 5678\n",
      "sape: 4139\n",
      "\n",
      "Client down.\n"
     ]
    },
    {
     "data": {
      "text/plain": [
       "'annette: 1234\\njack: 4098\\npeter: 5678\\nsape: 4139\\n'"
      ]
     },
     "execution_count": 6,
     "metadata": {},
     "output_type": "execute_result"
    }
   ],
   "source": [
    "import clientserver # import from our script\n",
    "\n",
    "client = clientserver.Client() # Create a client instance\n",
    "\n",
    "client.get_all()"
   ]
  }
 ],
 "metadata": {
  "kernelspec": {
   "display_name": "vs2lab-uWc7IIUF",
   "language": "python",
   "name": "python3"
  },
  "language_info": {
   "codemirror_mode": {
    "name": "ipython",
    "version": 3
   },
   "file_extension": ".py",
   "mimetype": "text/x-python",
   "name": "python",
   "nbconvert_exporter": "python",
   "pygments_lexer": "ipython3",
   "version": "3.11.4"
  }
 },
 "nbformat": 4,
 "nbformat_minor": 2
}
